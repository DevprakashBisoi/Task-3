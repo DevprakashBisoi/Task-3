{
 "cells": [
  {
   "cell_type": "code",
   "execution_count": 1,
   "metadata": {},
   "outputs": [
    {
     "data": {
      "text/plain": [
       "'foobar'"
      ]
     },
     "execution_count": 1,
     "metadata": {},
     "output_type": "execute_result"
    }
   ],
   "source": [
    "#1 \n",
    "def add(s1,s2):\n",
    "    return s1+s2\n",
    "\n",
    "add(\"foo\",\"bar\")"
   ]
  },
  {
   "cell_type": "code",
   "execution_count": 2,
   "metadata": {},
   "outputs": [
    {
     "data": {
      "text/plain": [
       "'foo bar'"
      ]
     },
     "execution_count": 2,
     "metadata": {},
     "output_type": "execute_result"
    }
   ],
   "source": [
    "#2\n",
    "def add(s1,s2):\n",
    "    return s1+\" \"+s2\n",
    "\n",
    "add(\"foo\",\"bar\")"
   ]
  },
  {
   "cell_type": "code",
   "execution_count": 3,
   "metadata": {},
   "outputs": [
    {
     "data": {
      "text/plain": [
       "0"
      ]
     },
     "execution_count": 3,
     "metadata": {},
     "output_type": "execute_result"
    }
   ],
   "source": [
    "#3\n",
    "def sub(s1,s2):\n",
    "    return len(s1)-len(s2)\n",
    "\n",
    "sub(\"foo\",\"bar\")"
   ]
  },
  {
   "cell_type": "code",
   "execution_count": 4,
   "metadata": {},
   "outputs": [
    {
     "name": "stdout",
     "output_type": "stream",
     "text": [
      "The sum is 102\n"
     ]
    }
   ],
   "source": [
    "#4\n",
    "def calculate(num1, num2, opp):\n",
    "    if opp == 'add':\n",
    "        print(num1 + num2)\n",
    "    elif opp == 'sub':\n",
    "        print(num1 - num2)\n",
    "    elif opp == 'mul':\n",
    "        print(num1 * num2)\n",
    "    elif opp == 'div':\n",
    "        if num2!=0:\n",
    "            print('Tnum1/num2)\n",
    "        else:\n",
    "            print('Division not possible')\n",
    "    else:\n",
    "        print('Invalid opp')\n",
    "        \n",
    "calculate(100,2,'add')"
   ]
  },
  {
   "cell_type": "code",
   "execution_count": null,
   "metadata": {},
   "outputs": [],
   "source": []
  }
 ],
 "metadata": {
  "kernelspec": {
   "display_name": "Python 3",
   "language": "python",
   "name": "python3"
  },
  "language_info": {
   "codemirror_mode": {
    "name": "ipython",
    "version": 3
   },
   "file_extension": ".py",
   "mimetype": "text/x-python",
   "name": "python",
   "nbconvert_exporter": "python",
   "pygments_lexer": "ipython3",
   "version": "3.7.6"
  }
 },
 "nbformat": 4,
 "nbformat_minor": 4
}
